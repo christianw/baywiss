{
 "cells": [
  {
   "cell_type": "code",
   "execution_count": null,
   "id": "51da23a8",
   "metadata": {},
   "outputs": [],
   "source": [
    "import cv2 as cv"
   ]
  },
  {
   "cell_type": "markdown",
   "id": "eff1eea7",
   "metadata": {},
   "source": [
    "Bitte `color-crack.jpg`, `crack.jpg` und `no-crack.jpg` vom Repository https://github.com/christianw/baywiss herunterladen!"
   ]
  },
  {
   "cell_type": "code",
   "execution_count": null,
   "id": "aafcc16f",
   "metadata": {},
   "outputs": [],
   "source": [
    "img = cv.imread(\"color-crack.jpg\")"
   ]
  },
  {
   "cell_type": "code",
   "execution_count": null,
   "id": "202f539a",
   "metadata": {},
   "outputs": [],
   "source": [
    "import matplotlib.pyplot as plt\n",
    "image = cv.cvtColor(img, cv.COLOR_BGR2RGB)\n",
    "plt.imshow(image)\n",
    "plt.show()"
   ]
  },
  {
   "cell_type": "code",
   "execution_count": null,
   "id": "d87befb3",
   "metadata": {},
   "outputs": [],
   "source": [
    "def display(img):\n",
    "    image = cv.cvtColor(img, cv.COLOR_BGR2RGB)\n",
    "    plt.imshow(image)\n",
    "    plt.show()"
   ]
  },
  {
   "cell_type": "code",
   "execution_count": null,
   "id": "ba177f90",
   "metadata": {},
   "outputs": [],
   "source": [
    "(B, G, R) = cv.split(img)"
   ]
  },
  {
   "cell_type": "code",
   "execution_count": null,
   "id": "6ab2e120",
   "metadata": {},
   "outputs": [],
   "source": [
    "display(B)"
   ]
  },
  {
   "cell_type": "code",
   "execution_count": null,
   "id": "07d82115",
   "metadata": {},
   "outputs": [],
   "source": [
    "img_gray = cv.cvtColor(img, cv.COLOR_BGR2GRAY)\n",
    "display(img_gray)"
   ]
  },
  {
   "cell_type": "code",
   "execution_count": null,
   "id": "0768ebe6",
   "metadata": {},
   "outputs": [],
   "source": [
    "img_blur = cv.GaussianBlur(img_gray, (3,3), 0) \n",
    "display(img_blur)"
   ]
  },
  {
   "cell_type": "code",
   "execution_count": null,
   "id": "01ebd77e",
   "metadata": {},
   "outputs": [],
   "source": [
    "sobelx = cv.Sobel(src=img_blur, ddepth=cv.CV_64F, dx=1, dy=0, ksize=5) # Sobel Edge Detection on the X axis\n",
    "sobely = cv.Sobel(src=img_blur, ddepth=cv.CV_64F, dx=0, dy=1, ksize=5) # Sobel Edge Detection on the Y axis\n",
    "sobelxy = cv.Sobel(src=img_blur, ddepth=cv.CV_64F, dx=1, dy=1, ksize=5) # Combined X and Y Sobel Edge Detection"
   ]
  },
  {
   "cell_type": "code",
   "execution_count": null,
   "id": "570f1d3f",
   "metadata": {},
   "outputs": [],
   "source": [
    "import numpy as np"
   ]
  },
  {
   "cell_type": "code",
   "execution_count": null,
   "id": "5ce53aaa",
   "metadata": {},
   "outputs": [],
   "source": [
    "def display_sobel(image):\n",
    "    i = image.astype('float32')\n",
    "    r = np.interp(i, (i.min(), i.max()), (0, +1))\n",
    "    plt.imshow(r)\n",
    "    plt.show()"
   ]
  },
  {
   "cell_type": "code",
   "execution_count": null,
   "id": "4f82bb69",
   "metadata": {},
   "outputs": [],
   "source": [
    "display_sobel(sobelx)"
   ]
  },
  {
   "cell_type": "code",
   "execution_count": null,
   "id": "223074ef",
   "metadata": {},
   "outputs": [],
   "source": [
    "display_sobel(sobely)"
   ]
  },
  {
   "cell_type": "code",
   "execution_count": null,
   "id": "a7e02278",
   "metadata": {},
   "outputs": [],
   "source": [
    "display_sobel(sobelxy)"
   ]
  },
  {
   "cell_type": "code",
   "execution_count": null,
   "id": "2e8a6813",
   "metadata": {},
   "outputs": [],
   "source": [
    "edges = cv.Canny(image=img_blur, threshold1=100, threshold2=200) "
   ]
  },
  {
   "cell_type": "code",
   "execution_count": null,
   "id": "ada1d3c0",
   "metadata": {},
   "outputs": [],
   "source": [
    "display(edges)"
   ]
  },
  {
   "cell_type": "code",
   "execution_count": null,
   "id": "ae94c55a",
   "metadata": {},
   "outputs": [],
   "source": []
  }
 ],
 "metadata": {
  "kernelspec": {
   "display_name": "baywiss",
   "language": "python",
   "name": "baywiss"
  },
  "language_info": {
   "codemirror_mode": {
    "name": "ipython",
    "version": 3
   },
   "file_extension": ".py",
   "mimetype": "text/x-python",
   "name": "python",
   "nbconvert_exporter": "python",
   "pygments_lexer": "ipython3",
   "version": "3.10.12"
  }
 },
 "nbformat": 4,
 "nbformat_minor": 5
}
